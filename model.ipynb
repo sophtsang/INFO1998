{
 "cells": [
  {
   "cell_type": "code",
   "execution_count": null,
   "id": "cb88fc3f-2502-4897-8d2b-845b0aa346b9",
   "metadata": {},
   "outputs": [],
   "source": [
    "import numpy as np\n",
    "import pandas as pd\n",
    "import sklearn\n",
    "from sklearn.linear_model import LinearRegression\n",
    "from sklearn.model_selection import train_test_split\n",
    "import matplotlib.pyplot as plt \n",
    "\n",
    "class Model(object): \n",
    "    def linearModel(self, zipcode, yearBuilt, lotArea, df): \n",
    "        features = df[['zipcode', 'year built', 'lot area (acres)']] \n",
    "        target = df[['price']] \n",
    "        x_train, x_test, y_train, y_test = train_test_split(features, target, test_size=0.2, random_state=42)\n",
    "        model = LinearRegression() \n",
    "        model.fit(x_train, y_train) \n",
    "        \n",
    "        predicted = model.predict([[zipcode, yearBuilt, lotArea]])[0] \n",
    "        trainScore = model.score(x_train,y_train) \n",
    "        validation = model.score(x_test,y_test) \n",
    "        \n",
    "        values = [predicted, trainScore, validation] \n",
    "        return values \n",
    "        \n",
    "        "
   ]
  }
 ],
 "metadata": {
  "kernelspec": {
   "display_name": "Python 3 (ipykernel)",
   "language": "python",
   "name": "python3"
  },
  "language_info": {
   "codemirror_mode": {
    "name": "ipython",
    "version": 3
   },
   "file_extension": ".py",
   "mimetype": "text/x-python",
   "name": "python",
   "nbconvert_exporter": "python",
   "pygments_lexer": "ipython3",
   "version": "3.11.5"
  }
 },
 "nbformat": 4,
 "nbformat_minor": 5
}
